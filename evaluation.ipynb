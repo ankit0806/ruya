{
 "cells": [
  {
   "cell_type": "markdown",
   "metadata": {},
   "source": [
    "# Ruya Evaluation"
   ]
  },
  {
   "cell_type": "code",
   "execution_count": 47,
   "metadata": {},
   "outputs": [
    {
     "data": {
      "text/plain": [
       "<Figure size 432x288 with 0 Axes>"
      ]
     },
     "metadata": {},
     "output_type": "display_data"
    }
   ],
   "source": [
    "import collections, warnings, pickle, pandas as pd\n",
    "import matplotlib.pyplot as plt\n",
    "import numpy as np\n",
    "from IPython.display import display, HTML, display_html\n",
    "\n",
    "%matplotlib inline\n",
    "\n",
    "%run gaussian_process.py  # For Bayesian optimization\n",
    "%run memory_analysis.py  # For job memory requirements\n",
    "%run progress_bar.py  # Utility for visualizing the progress of long evaluation\n",
    "\n",
    "#font_family = 'sans-serif'\n",
    "font_family = 'serif'\n",
    "plt.rcParams.update({'font.family': font_family})"
   ]
  },
  {
   "cell_type": "code",
   "execution_count": 48,
   "metadata": {},
   "outputs": [],
   "source": [
    "df = pd.read_csv('arrow_cluster_jobs.csv')"
   ]
  },
  {
   "cell_type": "code",
   "execution_count": 49,
   "metadata": {},
   "outputs": [],
   "source": [
    "jobs = list(sorted(set(df['job'])))\n",
    "\n",
    "def get_job_df(job): return df[df['job'] == job]\n",
    "    \n",
    "costs = {}  # {job: {(mem, cores): cost}}\n",
    "for job in jobs:\n",
    "    job_costs = get_job_df(job)[['memory', 'total_cores', 'cost_norm']].to_numpy()\n",
    "    costs[job] = {(mem, cores): cost for mem, cores, cost in job_costs}\n",
    "    \n",
    "def sample_loss(params):\n",
    "    return costs[job][tuple(params)]"
   ]
  },
  {
   "cell_type": "code",
   "execution_count": 50,
   "metadata": {},
   "outputs": [],
   "source": [
    "from memory_analysis import get_memory_requirement\n",
    "\n",
    "\n",
    "memory_requirements = {job: get_memory_requirement(job) for job in jobs}"
   ]
  },
  {
   "cell_type": "code",
   "execution_count": 51,
   "metadata": {},
   "outputs": [
    {
     "name": "stdout",
     "output_type": "stream",
     "text": [
      "Job                       best config        RAM     RAM-req\n",
      "--------------------------------------------------------------\n",
      "bayes_spark_bigdata      10 x c4.large   =  38GB vs 754GB RAM\n",
      "bayes_spark_huge         16 x r4.xlarge  = 488GB vs 395GB RAM\n",
      "join_spark_bigdata        6 x c4.large   =  22GB vs   0GB RAM\n",
      "join_spark_huge           4 x c4.large   =  15GB vs   0GB RAM\n",
      "kmeans_spark_bigdata      8 x r4.2xlarge = 488GB vs 503GB RAM\n",
      "kmeans_spark_huge         8 x m4.2xlarge = 256GB vs 252GB RAM\n",
      "linear_spark_bigdata     16 x c4.xlarge  = 120GB vs  -1GB RAM\n",
      "linear_spark_huge        10 x m4.2xlarge = 320GB vs  -1GB RAM\n",
      "lr_spark_bigdata          4 x r4.xlarge  = 122GB vs  -1GB RAM\n",
      "lr_spark_huge             4 x m4.xlarge  =  64GB vs  -1GB RAM\n",
      "pagerank_hadoop_bigdata   4 x c4.large   =  15GB vs   0GB RAM\n",
      "pagerank_hadoop_huge      4 x c4.large   =  15GB vs   0GB RAM\n",
      "pagerank_spark_bigdata   10 x m4.xlarge  = 160GB vs  86GB RAM\n",
      "pagerank_spark_huge       6 x m4.xlarge  =  96GB vs  42GB RAM\n",
      "terasort_hadoop_bigdata   8 x c4.large   =  30GB vs   0GB RAM\n",
      "terasort_hadoop_huge      4 x c4.large   =  15GB vs   0GB RAM\n"
     ]
    }
   ],
   "source": [
    "print(f\"Job{'':17s}      best config        RAM     RAM-req\\n{'-'*62}\")\n",
    "for job in jobs:\n",
    "    best = [r for i, r in get_job_df(job).iterrows() if r['cost_norm'] == 1][0]\n",
    "    print(f\"{job:24s} {best['scaleout']:2d} x {best['mtype']:10s} = {best['memory']*best['scaleout']:3.0f}GB vs {memory_requirements[job]:3.0f}GB RAM\")"
   ]
  },
  {
   "cell_type": "markdown",
   "metadata": {},
   "source": [
    "- RAM req = 0   : _Flat_ memory requirement categorization\n",
    "- RAM req = -1  : _Unclear_ memory requirement categorization\n",
    "- RAM req = x   : _Linear_ memory requirement categorization"
   ]
  },
  {
   "cell_type": "code",
   "execution_count": 52,
   "metadata": {},
   "outputs": [],
   "source": [
    "list_of_lists = lambda df, keys: [list(x) for x in df[keys].values]\n",
    "\n",
    "def get_config_options(job, multistep):\n",
    "    # Returns a list of lists that contain possible configurations to try\n",
    "    \n",
    "    job_df = get_job_df(job)\n",
    "    job_memory_req = memory_requirements[job]\n",
    "    \n",
    "    if not multistep or job_memory_req == -1:  # Baseline/unclear memory requirement\n",
    "        return [list_of_lists(job_df, ['memory', 'total_cores'])]  # == All candidates\n",
    "    \n",
    "    candidates = list_of_lists(job_df, keys=['memory', 'total_cores', 'scaleout', 'mtype'])\n",
    "    candidates.sort(key=lambda x: x[0]*x[2])  # sorted by total cluster memory\n",
    "    \n",
    "    if job_memory_req == 0:\n",
    "        first_options = [[mem, tc] for mem,tc,so,mtype in candidates[:10]]\n",
    "        second_options = [[mem, tc] for mem,tc,so,mtype in candidates[10:]]\n",
    "        return [first_options, second_options]\n",
    "        \n",
    "    mem_overhead = 2  # Around 2 GB memory overhead per executor by OS (Ubuntu) and Spark\n",
    "    first_options, second_options = [], []\n",
    "    for mem,tc,so,mtype in candidates:\n",
    "        (first_options if job_memory_req+(so*mem_overhead) < mem*so*1.1 else second_options).append([mem, tc])\n",
    "        \n",
    "    if first_options:  # If we can fulfill the memory requirement\n",
    "        return [first_options, second_options]\n",
    "    \n",
    "    # Else we have an unfulfillable memory requirement\n",
    "    # c1: Alternating the configs that are in the bottom/top 5 total cluster memory \n",
    "    c1 = list(sum((zip(candidates[:5], candidates[-5:])),()))\n",
    "    first_options = [[mem, tc] for mem,tc,so,mtype in c1]\n",
    "    second_options = [[mem, tc] for mem,tc,so,mtype in candidates[5:-5]]\n",
    "    return [first_options, second_options]"
   ]
  },
  {
   "cell_type": "code",
   "execution_count": 53,
   "metadata": {
    "scrolled": false
   },
   "outputs": [
    {
     "name": "stdout",
     "output_type": "stream",
     "text": [
      "Job                          options    prio    best in prio\n",
      "------------------------------------------------------------\n",
      "bayes_spark_bigdata            69         2       False\n",
      "bayes_spark_huge               69        10       True\n",
      "join_spark_bigdata             69        10       True\n",
      "join_spark_huge                68        10       True\n",
      "kmeans_spark_bigdata           64         8       True\n",
      "kmeans_spark_huge              64        18       True\n",
      "linear_spark_bigdata           47        47       True\n",
      "linear_spark_huge              65        65       True\n",
      "lr_spark_bigdata               64        64       True\n",
      "lr_spark_huge                  68        68       True\n",
      "pagerank_hadoop_bigdata        69        10       True\n",
      "pagerank_hadoop_huge           69        10       True\n",
      "pagerank_spark_bigdata         50        44       True\n",
      "pagerank_spark_huge            65        59       True\n",
      "terasort_hadoop_bigdata        62        10       True\n",
      "terasort_hadoop_huge           69        10       True\n"
     ]
    }
   ],
   "source": [
    "print(f\"{'Job':23s}      options    prio    best in prio\\n{'-'*60}\")\n",
    "for job in jobs:\n",
    "    job_df = get_job_df(job)\n",
    "    all_options = sum(get_config_options(job, multistep=False), [])\n",
    "    multistep_options = get_config_options(job, multistep=True)[0]\n",
    "    best = tuple([r for i, r in job_df.iterrows() if r['cost_norm'] == 1][0][['memory', 'total_cores']])\n",
    "    contains_best = best in [(a,b) for a,b in multistep_options]\n",
    "    print(f\"{job:28s} {len(job_df):4d}    {len(multistep_options):6d} {'':5s} {contains_best}\")"
   ]
  },
  {
   "cell_type": "code",
   "execution_count": 54,
   "metadata": {
    "scrolled": true
   },
   "outputs": [],
   "source": [
    "from gaussian_process import bayesian_optimisation\n",
    "\n",
    "\n",
    "eval_jobs = jobs\n",
    "\n",
    "def multi_step_bayesian_optimization(job, multistep=True, fast=False):\n",
    "    candidate_lists = get_config_options(job, multistep=multistep)\n",
    "    xp, yp = np.array([]) , np.array([])\n",
    "    for cl in map(np.array, candidate_lists):\n",
    "        xp, yp = bayesian_optimisation(n_iters=1000, sample_loss=sample_loss,\n",
    "                                     candidates=cl, n_pre_samples=3, fast=fast,\n",
    "                                     x0=xp)\n",
    "    return xp, yp"
   ]
  },
  {
   "cell_type": "markdown",
   "metadata": {},
   "source": [
    "## Generate Evaluation Results for Configuration Search"
   ]
  },
  {
   "cell_type": "code",
   "execution_count": 55,
   "metadata": {},
   "outputs": [],
   "source": [
    "from progress_bar import update_progress\n",
    "\n",
    "\n",
    "def evaluate(number_of_batches, multistep, fast=False):\n",
    "\n",
    "    global job\n",
    "    results = collections.defaultdict(list)  # {job: [(xp,yp), ...]}\n",
    "    \n",
    "    update_progress(0)\n",
    "    \n",
    "    for i in range(number_of_batches):\n",
    "        for j, job in enumerate(eval_jobs):\n",
    "            results[job] += [multi_step_bayesian_optimization(job, multistep=multistep, fast=fast)]\n",
    "            \n",
    "        update_progress((i+1)/number_of_batches)\n",
    "\n",
    "    update_progress(1)\n",
    "    return results"
   ]
  },
  {
   "cell_type": "code",
   "execution_count": 56,
   "metadata": {},
   "outputs": [
    {
     "name": "stdout",
     "output_type": "stream",
     "text": [
      "200 batches of previous ruya results were loaded from a pickle file\n",
      "200 batches of previous baseline results were loaded from a pickle file\n"
     ]
    }
   ],
   "source": [
    "def get_previous_results(kind):\n",
    "    try:\n",
    "        with open(f'results_{kind}.pkl', 'rb') as f:\n",
    "            previous_results = pickle.load(f)\n",
    "        lengths = [len(v) for v in previous_results.values()]\n",
    "        assert len(set(lengths)) == 1, \"The amount of results should be equal for all jobs\"\n",
    "        n = lengths[0]\n",
    "    except FileNotFoundError:\n",
    "        n, previous_results = 0, None\n",
    "    print(f\"{n} batches of previous {kind} results were loaded from a pickle file\")\n",
    "    return previous_results\n",
    "\n",
    "previous_results_ruya = get_previous_results('ruya')\n",
    "previous_results_baseline = get_previous_results('baseline')"
   ]
  },
  {
   "cell_type": "code",
   "execution_count": 57,
   "metadata": {
    "scrolled": true
   },
   "outputs": [
    {
     "name": "stdout",
     "output_type": "stream",
     "text": [
      "Progress: [####################] 100.0%\n"
     ]
    }
   ],
   "source": [
    "# Generate new evaluation experiments\n",
    "results_baseline = evaluate(number_of_batches=0, multistep=False, fast=True)"
   ]
  },
  {
   "cell_type": "code",
   "execution_count": 58,
   "metadata": {},
   "outputs": [
    {
     "name": "stdout",
     "output_type": "stream",
     "text": [
      "Progress: [####################] 100.0%\n"
     ]
    }
   ],
   "source": [
    "# Generate new evaluation experiments\n",
    "results_ruya = evaluate(number_of_batches=0, multistep=True, fast=True)"
   ]
  },
  {
   "cell_type": "code",
   "execution_count": 59,
   "metadata": {},
   "outputs": [],
   "source": [
    "merge_new_and_previous_results = True\n",
    "\n",
    "def merged_results(results1, results2):\n",
    "    d = collections.defaultdict(list)\n",
    "    for k, v in results1.items():\n",
    "        d[k].extend(v)\n",
    "    for k, v in results2.items():\n",
    "        d[k].extend(v)\n",
    "    return d\n",
    "\n",
    "if previous_results_ruya and merge_new_and_previous_results:\n",
    "    results_ruya = merged_results(previous_results_ruya, results_ruya)\n",
    "if previous_results_baseline and merge_new_and_previous_results:\n",
    "    results_baseline = merged_results(previous_results_baseline, results_baseline)"
   ]
  },
  {
   "cell_type": "code",
   "execution_count": 60,
   "metadata": {},
   "outputs": [],
   "source": [
    "# Save all results to a file\n",
    "with open('results_ruya.pkl', 'wb') as f:\n",
    "    pickle.dump(results_ruya, f)\n",
    "with open('results_baseline.pkl', 'wb') as f:\n",
    "    pickle.dump(results_baseline, f)"
   ]
  },
  {
   "cell_type": "markdown",
   "metadata": {},
   "source": [
    "## Display the Evaluation Results"
   ]
  },
  {
   "cell_type": "code",
   "execution_count": 61,
   "metadata": {},
   "outputs": [],
   "source": [
    "def get_main_results(job_results):\n",
    "    y12, y11, y10 = [],  [], []\n",
    "    for _, yp in job_results: \n",
    "        y12.append(min([i+1 for i,n in enumerate(list(yp)) if n <= 1.2]))\n",
    "        y11.append(min([i+1 for i,n in enumerate(list(yp)) if n <= 1.1]))\n",
    "        y10.append(min([i+1 for i,n in enumerate(list(yp)) if n == 1.0]))\n",
    "    return np.array(y12).mean(), np.array(y11).mean(), np.array(y10).mean()"
   ]
  },
  {
   "cell_type": "code",
   "execution_count": 62,
   "metadata": {},
   "outputs": [],
   "source": [
    "def results_as_df(results):\n",
    "    y12s, y11s, y10s = [], [], []\n",
    "    for job in jobs:\n",
    "        y12, y11, y10 = get_main_results(results[job])\n",
    "        y12s.append(y12); y11s.append(y11); y10s.append(y10)\n",
    "    y12s.append(np.array(y12s).mean())\n",
    "    y11s.append(np.array(y11s).mean())\n",
    "    y10s.append(np.array(y10s).mean())\n",
    "    return pd.DataFrame({'y1.2': y12s, 'y1.1': y11s, 'y1.0': y10s}, index=jobs+['mean'])"
   ]
  },
  {
   "cell_type": "code",
   "execution_count": 63,
   "metadata": {
    "scrolled": false
   },
   "outputs": [
    {
     "data": {
      "text/html": [
       "<style type=\"text/css\">\n",
       "</style>\n",
       "<table id=\"T_b804b\" style='display:inline'>\n",
       "  <caption>Cherrypick</caption>\n",
       "  <thead>\n",
       "    <tr>\n",
       "      <th class=\"blank level0\" >&nbsp;</th>\n",
       "      <th id=\"T_b804b_level0_col0\" class=\"col_heading level0 col0\" >y1.2</th>\n",
       "      <th id=\"T_b804b_level0_col1\" class=\"col_heading level0 col1\" >y1.1</th>\n",
       "      <th id=\"T_b804b_level0_col2\" class=\"col_heading level0 col2\" >y1.0</th>\n",
       "    </tr>\n",
       "  </thead>\n",
       "  <tbody>\n",
       "    <tr>\n",
       "      <th id=\"T_b804b_level0_row0\" class=\"row_heading level0 row0\" >bayes_spark_bigdata</th>\n",
       "      <td id=\"T_b804b_row0_col0\" class=\"data row0 col0\" >1.775</td>\n",
       "      <td id=\"T_b804b_row0_col1\" class=\"data row0 col1\" >4.840</td>\n",
       "      <td id=\"T_b804b_row0_col2\" class=\"data row0 col2\" >44.510</td>\n",
       "    </tr>\n",
       "    <tr>\n",
       "      <th id=\"T_b804b_level0_row1\" class=\"row_heading level0 row1\" >bayes_spark_huge</th>\n",
       "      <td id=\"T_b804b_row1_col0\" class=\"data row1 col0\" >4.075</td>\n",
       "      <td id=\"T_b804b_row1_col1\" class=\"data row1 col1\" >9.485</td>\n",
       "      <td id=\"T_b804b_row1_col2\" class=\"data row1 col2\" >18.385</td>\n",
       "    </tr>\n",
       "    <tr>\n",
       "      <th id=\"T_b804b_level0_row2\" class=\"row_heading level0 row2\" >join_spark_bigdata</th>\n",
       "      <td id=\"T_b804b_row2_col0\" class=\"data row2 col0\" >7.200</td>\n",
       "      <td id=\"T_b804b_row2_col1\" class=\"data row2 col1\" >18.180</td>\n",
       "      <td id=\"T_b804b_row2_col2\" class=\"data row2 col2\" >32.935</td>\n",
       "    </tr>\n",
       "    <tr>\n",
       "      <th id=\"T_b804b_level0_row3\" class=\"row_heading level0 row3\" >join_spark_huge</th>\n",
       "      <td id=\"T_b804b_row3_col0\" class=\"data row3 col0\" >9.370</td>\n",
       "      <td id=\"T_b804b_row3_col1\" class=\"data row3 col1\" >16.825</td>\n",
       "      <td id=\"T_b804b_row3_col2\" class=\"data row3 col2\" >22.800</td>\n",
       "    </tr>\n",
       "    <tr>\n",
       "      <th id=\"T_b804b_level0_row4\" class=\"row_heading level0 row4\" >kmeans_spark_bigdata</th>\n",
       "      <td id=\"T_b804b_row4_col0\" class=\"data row4 col0\" >10.750</td>\n",
       "      <td id=\"T_b804b_row4_col1\" class=\"data row4 col1\" >17.320</td>\n",
       "      <td id=\"T_b804b_row4_col2\" class=\"data row4 col2\" >17.320</td>\n",
       "    </tr>\n",
       "    <tr>\n",
       "      <th id=\"T_b804b_level0_row5\" class=\"row_heading level0 row5\" >kmeans_spark_huge</th>\n",
       "      <td id=\"T_b804b_row5_col0\" class=\"data row5 col0\" >6.665</td>\n",
       "      <td id=\"T_b804b_row5_col1\" class=\"data row5 col1\" >13.065</td>\n",
       "      <td id=\"T_b804b_row5_col2\" class=\"data row5 col2\" >15.345</td>\n",
       "    </tr>\n",
       "    <tr>\n",
       "      <th id=\"T_b804b_level0_row6\" class=\"row_heading level0 row6\" >linear_spark_bigdata</th>\n",
       "      <td id=\"T_b804b_row6_col0\" class=\"data row6 col0\" >2.675</td>\n",
       "      <td id=\"T_b804b_row6_col1\" class=\"data row6 col1\" >7.040</td>\n",
       "      <td id=\"T_b804b_row6_col2\" class=\"data row6 col2\" >25.870</td>\n",
       "    </tr>\n",
       "    <tr>\n",
       "      <th id=\"T_b804b_level0_row7\" class=\"row_heading level0 row7\" >linear_spark_huge</th>\n",
       "      <td id=\"T_b804b_row7_col0\" class=\"data row7 col0\" >7.760</td>\n",
       "      <td id=\"T_b804b_row7_col1\" class=\"data row7 col1\" >10.470</td>\n",
       "      <td id=\"T_b804b_row7_col2\" class=\"data row7 col2\" >14.275</td>\n",
       "    </tr>\n",
       "    <tr>\n",
       "      <th id=\"T_b804b_level0_row8\" class=\"row_heading level0 row8\" >lr_spark_bigdata</th>\n",
       "      <td id=\"T_b804b_row8_col0\" class=\"data row8 col0\" >7.550</td>\n",
       "      <td id=\"T_b804b_row8_col1\" class=\"data row8 col1\" >10.820</td>\n",
       "      <td id=\"T_b804b_row8_col2\" class=\"data row8 col2\" >10.820</td>\n",
       "    </tr>\n",
       "    <tr>\n",
       "      <th id=\"T_b804b_level0_row9\" class=\"row_heading level0 row9\" >lr_spark_huge</th>\n",
       "      <td id=\"T_b804b_row9_col0\" class=\"data row9 col0\" >6.375</td>\n",
       "      <td id=\"T_b804b_row9_col1\" class=\"data row9 col1\" >10.575</td>\n",
       "      <td id=\"T_b804b_row9_col2\" class=\"data row9 col2\" >11.620</td>\n",
       "    </tr>\n",
       "    <tr>\n",
       "      <th id=\"T_b804b_level0_row10\" class=\"row_heading level0 row10\" >pagerank_hadoop_bigdata</th>\n",
       "      <td id=\"T_b804b_row10_col0\" class=\"data row10 col0\" >7.500</td>\n",
       "      <td id=\"T_b804b_row10_col1\" class=\"data row10 col1\" >27.510</td>\n",
       "      <td id=\"T_b804b_row10_col2\" class=\"data row10 col2\" >35.025</td>\n",
       "    </tr>\n",
       "    <tr>\n",
       "      <th id=\"T_b804b_level0_row11\" class=\"row_heading level0 row11\" >pagerank_hadoop_huge</th>\n",
       "      <td id=\"T_b804b_row11_col0\" class=\"data row11 col0\" >12.320</td>\n",
       "      <td id=\"T_b804b_row11_col1\" class=\"data row11 col1\" >15.285</td>\n",
       "      <td id=\"T_b804b_row11_col2\" class=\"data row11 col2\" >20.645</td>\n",
       "    </tr>\n",
       "    <tr>\n",
       "      <th id=\"T_b804b_level0_row12\" class=\"row_heading level0 row12\" >pagerank_spark_bigdata</th>\n",
       "      <td id=\"T_b804b_row12_col0\" class=\"data row12 col0\" >4.840</td>\n",
       "      <td id=\"T_b804b_row12_col1\" class=\"data row12 col1\" >18.935</td>\n",
       "      <td id=\"T_b804b_row12_col2\" class=\"data row12 col2\" >18.935</td>\n",
       "    </tr>\n",
       "    <tr>\n",
       "      <th id=\"T_b804b_level0_row13\" class=\"row_heading level0 row13\" >pagerank_spark_huge</th>\n",
       "      <td id=\"T_b804b_row13_col0\" class=\"data row13 col0\" >4.870</td>\n",
       "      <td id=\"T_b804b_row13_col1\" class=\"data row13 col1\" >11.440</td>\n",
       "      <td id=\"T_b804b_row13_col2\" class=\"data row13 col2\" >17.570</td>\n",
       "    </tr>\n",
       "    <tr>\n",
       "      <th id=\"T_b804b_level0_row14\" class=\"row_heading level0 row14\" >terasort_hadoop_bigdata</th>\n",
       "      <td id=\"T_b804b_row14_col0\" class=\"data row14 col0\" >13.530</td>\n",
       "      <td id=\"T_b804b_row14_col1\" class=\"data row14 col1\" >35.475</td>\n",
       "      <td id=\"T_b804b_row14_col2\" class=\"data row14 col2\" >35.475</td>\n",
       "    </tr>\n",
       "    <tr>\n",
       "      <th id=\"T_b804b_level0_row15\" class=\"row_heading level0 row15\" >terasort_hadoop_huge</th>\n",
       "      <td id=\"T_b804b_row15_col0\" class=\"data row15 col0\" >32.505</td>\n",
       "      <td id=\"T_b804b_row15_col1\" class=\"data row15 col1\" >36.535</td>\n",
       "      <td id=\"T_b804b_row15_col2\" class=\"data row15 col2\" >36.535</td>\n",
       "    </tr>\n",
       "    <tr>\n",
       "      <th id=\"T_b804b_level0_row16\" class=\"row_heading level0 row16\" >mean</th>\n",
       "      <td id=\"T_b804b_row16_col0\" class=\"data row16 col0\" >8.735</td>\n",
       "      <td id=\"T_b804b_row16_col1\" class=\"data row16 col1\" >16.487</td>\n",
       "      <td id=\"T_b804b_row16_col2\" class=\"data row16 col2\" >23.629</td>\n",
       "    </tr>\n",
       "  </tbody>\n",
       "</table>\n",
       "<style type=\"text/css\">\n",
       "</style>\n",
       "<table id=\"T_06fb8\" style='display:inline'>\n",
       "  <caption>Ruya</caption>\n",
       "  <thead>\n",
       "    <tr>\n",
       "      <th class=\"blank level0\" >&nbsp;</th>\n",
       "      <th id=\"T_06fb8_level0_col0\" class=\"col_heading level0 col0\" >y1.2</th>\n",
       "      <th id=\"T_06fb8_level0_col1\" class=\"col_heading level0 col1\" >y1.1</th>\n",
       "      <th id=\"T_06fb8_level0_col2\" class=\"col_heading level0 col2\" >y1.0</th>\n",
       "    </tr>\n",
       "  </thead>\n",
       "  <tbody>\n",
       "    <tr>\n",
       "      <th id=\"T_06fb8_level0_row0\" class=\"row_heading level0 row0\" >bayes_spark_bigdata</th>\n",
       "      <td id=\"T_06fb8_row0_col0\" class=\"data row0 col0\" >1.835</td>\n",
       "      <td id=\"T_06fb8_row0_col1\" class=\"data row0 col1\" >5.465</td>\n",
       "      <td id=\"T_06fb8_row0_col2\" class=\"data row0 col2\" >44.505</td>\n",
       "    </tr>\n",
       "    <tr>\n",
       "      <th id=\"T_06fb8_level0_row1\" class=\"row_heading level0 row1\" >bayes_spark_huge</th>\n",
       "      <td id=\"T_06fb8_row1_col0\" class=\"data row1 col0\" >1.315</td>\n",
       "      <td id=\"T_06fb8_row1_col1\" class=\"data row1 col1\" >1.675</td>\n",
       "      <td id=\"T_06fb8_row1_col2\" class=\"data row1 col2\" >4.190</td>\n",
       "    </tr>\n",
       "    <tr>\n",
       "      <th id=\"T_06fb8_level0_row2\" class=\"row_heading level0 row2\" >join_spark_bigdata</th>\n",
       "      <td id=\"T_06fb8_row2_col0\" class=\"data row2 col0\" >1.000</td>\n",
       "      <td id=\"T_06fb8_row2_col1\" class=\"data row2 col1\" >1.800</td>\n",
       "      <td id=\"T_06fb8_row2_col2\" class=\"data row2 col2\" >5.515</td>\n",
       "    </tr>\n",
       "    <tr>\n",
       "      <th id=\"T_06fb8_level0_row3\" class=\"row_heading level0 row3\" >join_spark_huge</th>\n",
       "      <td id=\"T_06fb8_row3_col0\" class=\"data row3 col0\" >1.215</td>\n",
       "      <td id=\"T_06fb8_row3_col1\" class=\"data row3 col1\" >2.770</td>\n",
       "      <td id=\"T_06fb8_row3_col2\" class=\"data row3 col2\" >6.515</td>\n",
       "    </tr>\n",
       "    <tr>\n",
       "      <th id=\"T_06fb8_level0_row4\" class=\"row_heading level0 row4\" >kmeans_spark_bigdata</th>\n",
       "      <td id=\"T_06fb8_row4_col0\" class=\"data row4 col0\" >2.440</td>\n",
       "      <td id=\"T_06fb8_row4_col1\" class=\"data row4 col1\" >4.355</td>\n",
       "      <td id=\"T_06fb8_row4_col2\" class=\"data row4 col2\" >4.355</td>\n",
       "    </tr>\n",
       "    <tr>\n",
       "      <th id=\"T_06fb8_level0_row5\" class=\"row_heading level0 row5\" >kmeans_spark_huge</th>\n",
       "      <td id=\"T_06fb8_row5_col0\" class=\"data row5 col0\" >3.175</td>\n",
       "      <td id=\"T_06fb8_row5_col1\" class=\"data row5 col1\" >7.470</td>\n",
       "      <td id=\"T_06fb8_row5_col2\" class=\"data row5 col2\" >7.470</td>\n",
       "    </tr>\n",
       "    <tr>\n",
       "      <th id=\"T_06fb8_level0_row6\" class=\"row_heading level0 row6\" >linear_spark_bigdata</th>\n",
       "      <td id=\"T_06fb8_row6_col0\" class=\"data row6 col0\" >2.685</td>\n",
       "      <td id=\"T_06fb8_row6_col1\" class=\"data row6 col1\" >7.125</td>\n",
       "      <td id=\"T_06fb8_row6_col2\" class=\"data row6 col2\" >22.615</td>\n",
       "    </tr>\n",
       "    <tr>\n",
       "      <th id=\"T_06fb8_level0_row7\" class=\"row_heading level0 row7\" >linear_spark_huge</th>\n",
       "      <td id=\"T_06fb8_row7_col0\" class=\"data row7 col0\" >6.770</td>\n",
       "      <td id=\"T_06fb8_row7_col1\" class=\"data row7 col1\" >9.790</td>\n",
       "      <td id=\"T_06fb8_row7_col2\" class=\"data row7 col2\" >13.165</td>\n",
       "    </tr>\n",
       "    <tr>\n",
       "      <th id=\"T_06fb8_level0_row8\" class=\"row_heading level0 row8\" >lr_spark_bigdata</th>\n",
       "      <td id=\"T_06fb8_row8_col0\" class=\"data row8 col0\" >7.840</td>\n",
       "      <td id=\"T_06fb8_row8_col1\" class=\"data row8 col1\" >11.205</td>\n",
       "      <td id=\"T_06fb8_row8_col2\" class=\"data row8 col2\" >11.205</td>\n",
       "    </tr>\n",
       "    <tr>\n",
       "      <th id=\"T_06fb8_level0_row9\" class=\"row_heading level0 row9\" >lr_spark_huge</th>\n",
       "      <td id=\"T_06fb8_row9_col0\" class=\"data row9 col0\" >5.925</td>\n",
       "      <td id=\"T_06fb8_row9_col1\" class=\"data row9 col1\" >10.095</td>\n",
       "      <td id=\"T_06fb8_row9_col2\" class=\"data row9 col2\" >11.015</td>\n",
       "    </tr>\n",
       "    <tr>\n",
       "      <th id=\"T_06fb8_level0_row10\" class=\"row_heading level0 row10\" >pagerank_hadoop_bigdata</th>\n",
       "      <td id=\"T_06fb8_row10_col0\" class=\"data row10 col0\" >1.220</td>\n",
       "      <td id=\"T_06fb8_row10_col1\" class=\"data row10 col1\" >2.750</td>\n",
       "      <td id=\"T_06fb8_row10_col2\" class=\"data row10 col2\" >5.990</td>\n",
       "    </tr>\n",
       "    <tr>\n",
       "      <th id=\"T_06fb8_level0_row11\" class=\"row_heading level0 row11\" >pagerank_hadoop_huge</th>\n",
       "      <td id=\"T_06fb8_row11_col0\" class=\"data row11 col0\" >1.345</td>\n",
       "      <td id=\"T_06fb8_row11_col1\" class=\"data row11 col1\" >2.705</td>\n",
       "      <td id=\"T_06fb8_row11_col2\" class=\"data row11 col2\" >5.750</td>\n",
       "    </tr>\n",
       "    <tr>\n",
       "      <th id=\"T_06fb8_level0_row12\" class=\"row_heading level0 row12\" >pagerank_spark_bigdata</th>\n",
       "      <td id=\"T_06fb8_row12_col0\" class=\"data row12 col0\" >4.680</td>\n",
       "      <td id=\"T_06fb8_row12_col1\" class=\"data row12 col1\" >15.535</td>\n",
       "      <td id=\"T_06fb8_row12_col2\" class=\"data row12 col2\" >15.535</td>\n",
       "    </tr>\n",
       "    <tr>\n",
       "      <th id=\"T_06fb8_level0_row13\" class=\"row_heading level0 row13\" >pagerank_spark_huge</th>\n",
       "      <td id=\"T_06fb8_row13_col0\" class=\"data row13 col0\" >5.195</td>\n",
       "      <td id=\"T_06fb8_row13_col1\" class=\"data row13 col1\" >12.230</td>\n",
       "      <td id=\"T_06fb8_row13_col2\" class=\"data row13 col2\" >17.210</td>\n",
       "    </tr>\n",
       "    <tr>\n",
       "      <th id=\"T_06fb8_level0_row14\" class=\"row_heading level0 row14\" >terasort_hadoop_bigdata</th>\n",
       "      <td id=\"T_06fb8_row14_col0\" class=\"data row14 col0\" >1.965</td>\n",
       "      <td id=\"T_06fb8_row14_col1\" class=\"data row14 col1\" >5.165</td>\n",
       "      <td id=\"T_06fb8_row14_col2\" class=\"data row14 col2\" >5.165</td>\n",
       "    </tr>\n",
       "    <tr>\n",
       "      <th id=\"T_06fb8_level0_row15\" class=\"row_heading level0 row15\" >terasort_hadoop_huge</th>\n",
       "      <td id=\"T_06fb8_row15_col0\" class=\"data row15 col0\" >4.305</td>\n",
       "      <td id=\"T_06fb8_row15_col1\" class=\"data row15 col1\" >5.890</td>\n",
       "      <td id=\"T_06fb8_row15_col2\" class=\"data row15 col2\" >5.890</td>\n",
       "    </tr>\n",
       "    <tr>\n",
       "      <th id=\"T_06fb8_level0_row16\" class=\"row_heading level0 row16\" >mean</th>\n",
       "      <td id=\"T_06fb8_row16_col0\" class=\"data row16 col0\" >3.307</td>\n",
       "      <td id=\"T_06fb8_row16_col1\" class=\"data row16 col1\" >6.627</td>\n",
       "      <td id=\"T_06fb8_row16_col2\" class=\"data row16 col2\" >11.631</td>\n",
       "    </tr>\n",
       "  </tbody>\n",
       "</table>\n",
       "<style type=\"text/css\">\n",
       "#T_43258_row1_col0, #T_43258_row1_col1, #T_43258_row1_col2, #T_43258_row2_col0, #T_43258_row2_col1, #T_43258_row2_col2, #T_43258_row3_col0, #T_43258_row3_col1, #T_43258_row3_col2, #T_43258_row4_col0, #T_43258_row4_col1, #T_43258_row4_col2, #T_43258_row5_col0, #T_43258_row5_col1, #T_43258_row5_col2, #T_43258_row10_col0, #T_43258_row10_col1, #T_43258_row10_col2, #T_43258_row11_col0, #T_43258_row11_col1, #T_43258_row11_col2, #T_43258_row12_col1, #T_43258_row12_col2, #T_43258_row14_col0, #T_43258_row14_col1, #T_43258_row14_col2, #T_43258_row15_col0, #T_43258_row15_col1, #T_43258_row15_col2, #T_43258_row16_col0, #T_43258_row16_col1, #T_43258_row16_col2 {\n",
       "  background-color: aquamarine;\n",
       "}\n",
       "</style>\n",
       "<table id=\"T_43258\" style='display:inline'>\n",
       "  <caption>Relative Difference</caption>\n",
       "  <thead>\n",
       "    <tr>\n",
       "      <th class=\"blank level0\" >&nbsp;</th>\n",
       "      <th id=\"T_43258_level0_col0\" class=\"col_heading level0 col0\" >y1.2</th>\n",
       "      <th id=\"T_43258_level0_col1\" class=\"col_heading level0 col1\" >y1.1</th>\n",
       "      <th id=\"T_43258_level0_col2\" class=\"col_heading level0 col2\" >y1.0</th>\n",
       "    </tr>\n",
       "  </thead>\n",
       "  <tbody>\n",
       "    <tr>\n",
       "      <th id=\"T_43258_level0_row0\" class=\"row_heading level0 row0\" >bayes_spark_bigdata</th>\n",
       "      <td id=\"T_43258_row0_col0\" class=\"data row0 col0\" >1.034</td>\n",
       "      <td id=\"T_43258_row0_col1\" class=\"data row0 col1\" >1.129</td>\n",
       "      <td id=\"T_43258_row0_col2\" class=\"data row0 col2\" >1.000</td>\n",
       "    </tr>\n",
       "    <tr>\n",
       "      <th id=\"T_43258_level0_row1\" class=\"row_heading level0 row1\" >bayes_spark_huge</th>\n",
       "      <td id=\"T_43258_row1_col0\" class=\"data row1 col0\" >0.323</td>\n",
       "      <td id=\"T_43258_row1_col1\" class=\"data row1 col1\" >0.177</td>\n",
       "      <td id=\"T_43258_row1_col2\" class=\"data row1 col2\" >0.228</td>\n",
       "    </tr>\n",
       "    <tr>\n",
       "      <th id=\"T_43258_level0_row2\" class=\"row_heading level0 row2\" >join_spark_bigdata</th>\n",
       "      <td id=\"T_43258_row2_col0\" class=\"data row2 col0\" >0.139</td>\n",
       "      <td id=\"T_43258_row2_col1\" class=\"data row2 col1\" >0.099</td>\n",
       "      <td id=\"T_43258_row2_col2\" class=\"data row2 col2\" >0.167</td>\n",
       "    </tr>\n",
       "    <tr>\n",
       "      <th id=\"T_43258_level0_row3\" class=\"row_heading level0 row3\" >join_spark_huge</th>\n",
       "      <td id=\"T_43258_row3_col0\" class=\"data row3 col0\" >0.130</td>\n",
       "      <td id=\"T_43258_row3_col1\" class=\"data row3 col1\" >0.165</td>\n",
       "      <td id=\"T_43258_row3_col2\" class=\"data row3 col2\" >0.286</td>\n",
       "    </tr>\n",
       "    <tr>\n",
       "      <th id=\"T_43258_level0_row4\" class=\"row_heading level0 row4\" >kmeans_spark_bigdata</th>\n",
       "      <td id=\"T_43258_row4_col0\" class=\"data row4 col0\" >0.227</td>\n",
       "      <td id=\"T_43258_row4_col1\" class=\"data row4 col1\" >0.251</td>\n",
       "      <td id=\"T_43258_row4_col2\" class=\"data row4 col2\" >0.251</td>\n",
       "    </tr>\n",
       "    <tr>\n",
       "      <th id=\"T_43258_level0_row5\" class=\"row_heading level0 row5\" >kmeans_spark_huge</th>\n",
       "      <td id=\"T_43258_row5_col0\" class=\"data row5 col0\" >0.476</td>\n",
       "      <td id=\"T_43258_row5_col1\" class=\"data row5 col1\" >0.572</td>\n",
       "      <td id=\"T_43258_row5_col2\" class=\"data row5 col2\" >0.487</td>\n",
       "    </tr>\n",
       "    <tr>\n",
       "      <th id=\"T_43258_level0_row6\" class=\"row_heading level0 row6\" >linear_spark_bigdata</th>\n",
       "      <td id=\"T_43258_row6_col0\" class=\"data row6 col0\" >1.004</td>\n",
       "      <td id=\"T_43258_row6_col1\" class=\"data row6 col1\" >1.012</td>\n",
       "      <td id=\"T_43258_row6_col2\" class=\"data row6 col2\" >0.874</td>\n",
       "    </tr>\n",
       "    <tr>\n",
       "      <th id=\"T_43258_level0_row7\" class=\"row_heading level0 row7\" >linear_spark_huge</th>\n",
       "      <td id=\"T_43258_row7_col0\" class=\"data row7 col0\" >0.872</td>\n",
       "      <td id=\"T_43258_row7_col1\" class=\"data row7 col1\" >0.935</td>\n",
       "      <td id=\"T_43258_row7_col2\" class=\"data row7 col2\" >0.922</td>\n",
       "    </tr>\n",
       "    <tr>\n",
       "      <th id=\"T_43258_level0_row8\" class=\"row_heading level0 row8\" >lr_spark_bigdata</th>\n",
       "      <td id=\"T_43258_row8_col0\" class=\"data row8 col0\" >1.038</td>\n",
       "      <td id=\"T_43258_row8_col1\" class=\"data row8 col1\" >1.036</td>\n",
       "      <td id=\"T_43258_row8_col2\" class=\"data row8 col2\" >1.036</td>\n",
       "    </tr>\n",
       "    <tr>\n",
       "      <th id=\"T_43258_level0_row9\" class=\"row_heading level0 row9\" >lr_spark_huge</th>\n",
       "      <td id=\"T_43258_row9_col0\" class=\"data row9 col0\" >0.929</td>\n",
       "      <td id=\"T_43258_row9_col1\" class=\"data row9 col1\" >0.955</td>\n",
       "      <td id=\"T_43258_row9_col2\" class=\"data row9 col2\" >0.948</td>\n",
       "    </tr>\n",
       "    <tr>\n",
       "      <th id=\"T_43258_level0_row10\" class=\"row_heading level0 row10\" >pagerank_hadoop_bigdata</th>\n",
       "      <td id=\"T_43258_row10_col0\" class=\"data row10 col0\" >0.163</td>\n",
       "      <td id=\"T_43258_row10_col1\" class=\"data row10 col1\" >0.100</td>\n",
       "      <td id=\"T_43258_row10_col2\" class=\"data row10 col2\" >0.171</td>\n",
       "    </tr>\n",
       "    <tr>\n",
       "      <th id=\"T_43258_level0_row11\" class=\"row_heading level0 row11\" >pagerank_hadoop_huge</th>\n",
       "      <td id=\"T_43258_row11_col0\" class=\"data row11 col0\" >0.109</td>\n",
       "      <td id=\"T_43258_row11_col1\" class=\"data row11 col1\" >0.177</td>\n",
       "      <td id=\"T_43258_row11_col2\" class=\"data row11 col2\" >0.279</td>\n",
       "    </tr>\n",
       "    <tr>\n",
       "      <th id=\"T_43258_level0_row12\" class=\"row_heading level0 row12\" >pagerank_spark_bigdata</th>\n",
       "      <td id=\"T_43258_row12_col0\" class=\"data row12 col0\" >0.967</td>\n",
       "      <td id=\"T_43258_row12_col1\" class=\"data row12 col1\" >0.820</td>\n",
       "      <td id=\"T_43258_row12_col2\" class=\"data row12 col2\" >0.820</td>\n",
       "    </tr>\n",
       "    <tr>\n",
       "      <th id=\"T_43258_level0_row13\" class=\"row_heading level0 row13\" >pagerank_spark_huge</th>\n",
       "      <td id=\"T_43258_row13_col0\" class=\"data row13 col0\" >1.067</td>\n",
       "      <td id=\"T_43258_row13_col1\" class=\"data row13 col1\" >1.069</td>\n",
       "      <td id=\"T_43258_row13_col2\" class=\"data row13 col2\" >0.980</td>\n",
       "    </tr>\n",
       "    <tr>\n",
       "      <th id=\"T_43258_level0_row14\" class=\"row_heading level0 row14\" >terasort_hadoop_bigdata</th>\n",
       "      <td id=\"T_43258_row14_col0\" class=\"data row14 col0\" >0.145</td>\n",
       "      <td id=\"T_43258_row14_col1\" class=\"data row14 col1\" >0.146</td>\n",
       "      <td id=\"T_43258_row14_col2\" class=\"data row14 col2\" >0.146</td>\n",
       "    </tr>\n",
       "    <tr>\n",
       "      <th id=\"T_43258_level0_row15\" class=\"row_heading level0 row15\" >terasort_hadoop_huge</th>\n",
       "      <td id=\"T_43258_row15_col0\" class=\"data row15 col0\" >0.132</td>\n",
       "      <td id=\"T_43258_row15_col1\" class=\"data row15 col1\" >0.161</td>\n",
       "      <td id=\"T_43258_row15_col2\" class=\"data row15 col2\" >0.161</td>\n",
       "    </tr>\n",
       "    <tr>\n",
       "      <th id=\"T_43258_level0_row16\" class=\"row_heading level0 row16\" >mean</th>\n",
       "      <td id=\"T_43258_row16_col0\" class=\"data row16 col0\" >0.379</td>\n",
       "      <td id=\"T_43258_row16_col1\" class=\"data row16 col1\" >0.402</td>\n",
       "      <td id=\"T_43258_row16_col2\" class=\"data row16 col2\" >0.492</td>\n",
       "    </tr>\n",
       "  </tbody>\n",
       "</table>\n"
      ]
     },
     "metadata": {},
     "output_type": "display_data"
    },
    {
     "name": "stdout",
     "output_type": "stream",
     "text": [
      "Results based on 200 evaluation batches\n"
     ]
    }
   ],
   "source": [
    "def highlight_improvements(data, color='aquamarine', bold=False):\n",
    "    assert data.ndim == 2 # from .apply(axis=None)\n",
    "    return pd.DataFrame(np.where(data<.85, f\"background-color: {color}\", ''),\n",
    "                        index=data.index, columns=data.columns)\n",
    "\n",
    "\n",
    "inline = lambda df: df.style.set_table_attributes(\"style='display:inline'\").format(precision=3)\n",
    "df1 = results_as_df(results_baseline)\n",
    "df2 = results_as_df(results_ruya)\n",
    "df3 = (df2 / df1)\n",
    "\n",
    "display_html(inline(df1).set_caption('Cherrypick')._repr_html_() +\\\n",
    "             inline(df2).set_caption('Ruya')._repr_html_() +\\\n",
    "             inline(df3).apply(highlight_improvements,axis=None).set_caption('Relative Difference')._repr_html_()\n",
    "             , raw=True)\n",
    "\n",
    "print(f\"Results based on {[len(v) for v in results_ruya.values()][0]} evaluation batches\")"
   ]
  },
  {
   "cell_type": "markdown",
   "metadata": {},
   "source": [
    "__y1.2__: The amount of steps (including three initialization runs) until the process finds a config with a normalized cost of 1.2 or lower  \n",
    "__y1.1__: The amount of steps (including three initialization runs) until the process finds a config with a normalized cost of 1.1 or lower  \n",
    "__y1.0__: The amount of steps (including three initialization runs) until the process finds a config with a normalized cost of 1.0 (=cheapest)"
   ]
  },
  {
   "cell_type": "code",
   "execution_count": 64,
   "metadata": {},
   "outputs": [],
   "source": [
    "mile_stones = [x/10 for x in range(10, 31)]\n",
    "\n",
    "def interpret_job_results(job_results):\n",
    "    interpreted_results = collections.defaultdict(list)\n",
    "    \n",
    "    for _, yp in job_results: \n",
    "        for ms in mile_stones:\n",
    "            interpreted_results[ms].append(min([i+1 for i,n in enumerate(list(yp)) if n <= ms]))\n",
    "    return [np.array(li).mean() for li in interpreted_results.values()]"
   ]
  },
  {
   "cell_type": "code",
   "execution_count": 65,
   "metadata": {},
   "outputs": [
    {
     "data": {
      "image/png": "[encoded data removed]",
      "text/plain": [
       "<Figure size 432x288 with 1 Axes>"
      ]
     },
     "metadata": {
      "needs_background": "light"
     },
     "output_type": "display_data"
    }
   ],
   "source": [
    "li_ruya = [interpret_job_results(results_ruya[job]) for job in jobs]\n",
    "li_baseline = [interpret_job_results(results_baseline[job]) for job in jobs]\n",
    "x_ruya = list(map(lambda x: np.array(x).mean(), list(zip(*li_ruya))))\n",
    "x_baseline = list(map(lambda x: np.array(x).mean(), list(zip(*li_baseline))))\n",
    "\n",
    "plt.figure(figsize=(6,4))\n",
    "plt.plot(x_baseline, mile_stones, label=\"CherryPick\")\n",
    "plt.plot(x_ruya, mile_stones, label=\"Ruya\")\n",
    "plt.xlabel(\"Iteration\", fontsize=16); plt.ylabel(\"Job cost (normalized)\", fontsize=16)\n",
    "plt.yticks(fontsize=14)\n",
    "plt.xticks(fontsize=14)\n",
    "plt.legend(fontsize=14)\n",
    "plt.savefig(f'plots/job_cost_{font_family}.pdf', bbox_inches=\"tight\"); plt.show()"
   ]
  },
  {
   "cell_type": "code",
   "execution_count": 66,
   "metadata": {},
   "outputs": [],
   "source": [
    "import random\n",
    "\n",
    "\n",
    "def cost_of_random_config(job, amount):\n",
    "    job_df = get_job_df(job)\n",
    "    job_costs_norm = list(job_df['cost_norm'])\n",
    "    return random.choices(job_costs_norm, k=amount)"
   ]
  },
  {
   "cell_type": "code",
   "execution_count": 67,
   "metadata": {},
   "outputs": [],
   "source": [
    "N = 100\n",
    "def get_costs(results, total_iterations):\n",
    "    costs = []\n",
    "    cum_costs = []\n",
    "    for job in jobs:\n",
    "        for config, cost in results[job]:\n",
    "            explore_iterations_costs = list(cost)+list(cost_of_random_config(job, 0))\n",
    "            exploit_iterations_costs = [1] * (N - len(explore_iterations_costs))\n",
    "            all_iterations_costs = explore_iterations_costs+exploit_iterations_costs\n",
    "            cum_costs.append([sum(all_iterations_costs[0:x]) for x in range(1, len(all_iterations_costs)+1)])\n",
    "            costs.append(all_iterations_costs)\n",
    "    return costs, cum_costs\n",
    "\n",
    "costs_ruya, cum_costs_ruya  = get_costs(results_ruya, 100)\n",
    "costs_baseline, cum_costs_baseline = get_costs(results_baseline, 100)"
   ]
  },
  {
   "cell_type": "code",
   "execution_count": 68,
   "metadata": {},
   "outputs": [
    {
     "data": {
      "image/png": "[encoded data removed]",
      "text/plain": [
       "<Figure size 432x288 with 1 Axes>"
      ]
     },
     "metadata": {
      "needs_background": "light"
     },
     "output_type": "display_data"
    }
   ],
   "source": [
    "x = list(range(1, N+1))\n",
    "y_ruya = [np.array(costs_ruya)[:,n].mean() for n in range(N)]\n",
    "y_baseline = [np.array(costs_baseline)[:,n].mean() for n in range(N)]\n",
    "\n",
    "plt.figure(figsize=(6,4))\n",
    "plt.plot(x,y_baseline, label='CherryPick')\n",
    "plt.plot(x,y_ruya, label='Ruya')\n",
    "plt.xlabel(\"Number of iterations\", fontsize=16)\n",
    "plt.ylabel(\"Mean job cost (normalized)\", fontsize=16)\n",
    "plt.yticks(fontsize=14)\n",
    "plt.xticks(fontsize=14)\n",
    "plt.legend(fontsize=14)\n",
    "plt.savefig(f'plots/mean_job_cost_{font_family}.pdf', bbox_inches=\"tight\");\n",
    "plt.show()"
   ]
  },
  {
   "cell_type": "code",
   "execution_count": 69,
   "metadata": {},
   "outputs": [
    {
     "data": {
      "image/png": "[encoded data removed]",
      "text/plain": [
       "<Figure size 432x288 with 1 Axes>"
      ]
     },
     "metadata": {
      "needs_background": "light"
     },
     "output_type": "display_data"
    }
   ],
   "source": [
    "x = list(range(1, N+1))\n",
    "y_ruya = [np.array(cum_costs_ruya)[:,n].mean() for n in range(N)]\n",
    "y_baseline = [np.array(cum_costs_baseline)[:,n].mean() for n in range(N)]\n",
    "\n",
    "plt.figure(figsize=(6,4))\n",
    "plt.plot(x,y_baseline, label='CherryPick')\n",
    "plt.plot(x,y_ruya, label='Ruya')\n",
    "plt.xlabel(\"Number of iterations\", fontsize=16)\n",
    "plt.ylabel(\"Cumulative cost (normalized)\", fontsize=15)\n",
    "plt.yticks(fontsize=14)\n",
    "plt.xticks(fontsize=14)\n",
    "plt.legend(fontsize=14)\n",
    "plt.savefig(f'plots/cumulative_job_cost_{font_family}.pdf', bbox_inches=\"tight\"); plt.show()"
   ]
  }
 ],
 "metadata": {
  "anaconda-cloud": {},
  "kernelspec": {
   "display_name": "Python 3 (ipykernel)",
   "language": "python",
   "name": "python3"
  },
  "language_info": {
   "codemirror_mode": {
    "name": "ipython",
    "version": 3
   },
   "file_extension": ".py",
   "mimetype": "text/x-python",
   "name": "python",
   "nbconvert_exporter": "python",
   "pygments_lexer": "ipython3",
   "version": "3.10.5"
  }
 },
 "nbformat": 4,
 "nbformat_minor": 1
}
